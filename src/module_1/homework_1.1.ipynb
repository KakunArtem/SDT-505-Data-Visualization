{
 "cells": [
  {
   "cell_type": "markdown",
   "source": [
    "**Part A**: Company XYZ wants to create an application for offering vacation services such as housing, maps, (e.g, crime rate) of the places being visited etc. From the materials presented, list a few visual variables and their characteristics that you would use in the design of this application.\n",
    "For such an application, I would use next visual variables:\n",
    "**City size** - relative to the average American city, where the average is 5\n",
    "**Housing Type** - prevailing type of housing\n",
    "**Safety** – crime rate in %\n",
    "**Restaurant rating** - average restaurant review score in the city\n",
    "**Hotel rating** - average restaurant review score in the city"
   ],
   "metadata": {
    "collapsed": false
   }
  },
  {
   "cell_type": "code",
   "execution_count": null,
   "outputs": [],
   "source": [
    "import pandas as pd\n",
    "from matplotlib import pyplot as plt\n",
    "import numpy as np"
   ],
   "metadata": {
    "collapsed": false,
    "ExecuteTime": {
     "start_time": "2023-04-15T11:41:48.144687Z",
     "end_time": "2023-04-15T11:41:48.148825Z"
    }
   }
  },
  {
   "cell_type": "code",
   "execution_count": null,
   "metadata": {
    "ExecuteTime": {
     "start_time": "2023-04-15T12:07:05.290018Z",
     "end_time": "2023-04-15T12:07:05.294384Z"
    }
   },
   "outputs": [],
   "source": [
    "data = {\n",
    "    'Location': ['New York City', 'Los Angeles', 'San Francisco', 'Miami', 'Las Vegas'],\n",
    "    'City Size': [10, 15, 12, 8, 20],\n",
    "    'Housing Type': ['Hotel', 'Apartment', 'Hotel', 'Apartment', 'Hotel'],\n",
    "    'Safety': [3, 2.3, 5.2, 3.3, 6.4],\n",
    "    'Restaurant rating': [4.5, 4.2, 4.8, 3.9, 4.1],\n",
    "    'Hotel rating': [4.7, 4.0, 3.7, 4.3, 3.8]\n",
    "}\n",
    "\n",
    "df = pd.DataFrame(data)"
   ]
  },
  {
   "cell_type": "markdown",
   "source": [
    "City size - relative to the average American city, where the average is 5.\n",
    "Housing Type - prevailing type of housing in the city.\n",
    "The percentage shows the ratio of the city to the total size of all cities"
   ],
   "metadata": {
    "collapsed": false
   }
  },
  {
   "cell_type": "code",
   "execution_count": null,
   "outputs": [],
   "source": [
    "plt.rcParams[\"figure.figsize\"] = [10.50, 5.50]\n",
    "plt.rcParams[\"figure.autolayout\"] = True\n",
    "\n",
    "fig, ax = plt.subplots()\n",
    "\n",
    "size = 0.3\n",
    "cmap = plt.get_cmap('hsv', 2056)\n",
    "outer_colors = np.arange(5) * 411\n",
    "inner_colors = [x + 35 for x in outer_colors]\n",
    "\n",
    "common_params = dict(\n",
    "    shadow=True,\n",
    "    startangle=10,\n",
    "    rotatelabels=True,\n",
    "    labeldistance=0.8,\n",
    "    explode=[0.1, 0.005, 0.005, 0.005, 0.005],\n",
    "    wedgeprops=dict(width=size, edgecolor='w'))\n",
    "\n",
    "pie1 = ax.pie(df[\"City Size\"].values.flatten(),\n",
    "              radius=1,\n",
    "              colors=cmap(outer_colors),\n",
    "              autopct='%1.1f%%',\n",
    "              pctdistance=1.12,\n",
    "              labels=df[\"Location\"],\n",
    "              **common_params)\n",
    "\n",
    "pie2 = ax.pie(df[\"City Size\"].values.flatten(),\n",
    "              radius=1 - size,\n",
    "              colors=cmap(inner_colors),\n",
    "              labels=df[\"Housing Type\"],\n",
    "              **common_params)\n",
    "\n",
    "pie_arr = [pie2[1], pie1[1]]\n",
    "\n",
    "for pie in pie_arr:\n",
    "    plt.setp(pie, rotation_mode=\"anchor\", ha=\"center\", va=\"center\")\n",
    "\n",
    "    for tx in pie:\n",
    "        rot = tx.get_rotation()\n",
    "        tx.set_rotation(rot + 90 + (1 - rot // 90) * 180)\n",
    "\n",
    "ax.set(aspect=\"equal\", title='City housing')\n",
    "plt.show()\n"
   ],
   "metadata": {
    "collapsed": false,
    "ExecuteTime": {
     "start_time": "2023-04-15T11:59:13.379569Z",
     "end_time": "2023-04-15T11:59:13.531761Z"
    }
   }
  },
  {
   "cell_type": "markdown",
   "source": [
    "Restaurant rating - average restaurant review score in the city\n",
    "Hotel rating - average restaurant review score in the city"
   ],
   "metadata": {
    "collapsed": false
   }
  },
  {
   "cell_type": "code",
   "execution_count": null,
   "metadata": {
    "ExecuteTime": {
     "start_time": "2023-04-15T12:20:50.622988Z",
     "end_time": "2023-04-15T12:20:50.758153Z"
    }
   },
   "outputs": [],
   "source": [
    "locations = df[\"Location\"]\n",
    "rating_count = {\n",
    "    'Average restaurant rating': np.array(df[\"Restaurant rating\"]),\n",
    "    'Average hotel rating': np.array(df[\"Hotel rating\"]),\n",
    "}\n",
    "width = 0.6  # the width of the bars: can also be len(x) sequence\n",
    "\n",
    "fig, ax = plt.subplots()\n",
    "bottom = np.zeros(5)\n",
    "\n",
    "for key, value in rating_count.items():\n",
    "    p = ax.bar(locations, value, width, label=key, bottom=bottom)\n",
    "    bottom += value\n",
    "\n",
    "    ax.bar_label(p, label_type='center')\n",
    "\n",
    "ax.set_title('Comparison of hotels and restaurant ratings')\n",
    "ax.legend()\n",
    "\n",
    "plt.show()"
   ]
  },
  {
   "cell_type": "markdown",
   "source": [
    "Safety – crime rate in %"
   ],
   "metadata": {
    "collapsed": false
   }
  },
  {
   "cell_type": "code",
   "execution_count": null,
   "outputs": [],
   "source": [
    "location_data = df[\"Location\"]\n",
    "safety_data = df[\"Safety\"]\n",
    "\n",
    "plt.rcParams[\"figure.figsize\"] = [13.50, 5.50]\n",
    "plt.rcParams[\"figure.autolayout\"] = True\n",
    "\n",
    "plt.plot(df[\"Location\"], df[\"Safety\"], 'o', markeredgecolor='b', markerfacecolor='b', linestyle='--', linewidth=1.2,\n",
    "         color='r', mouseover=True)\n",
    "plt.ylabel('Chance to get killed')\n",
    "\n",
    "for x, y in zip(location_data, safety_data):\n",
    "    label = \"{:.1f}%\".format(y)\n",
    "    plt.annotate(label,\n",
    "                 (x, y),\n",
    "                 textcoords=\"offset points\",\n",
    "                 xytext=(23, 4),\n",
    "                 ha='center')\n",
    "plt.show()"
   ],
   "metadata": {
    "collapsed": false,
    "ExecuteTime": {
     "start_time": "2023-04-15T12:21:07.479361Z",
     "end_time": "2023-04-15T12:21:07.585759Z"
    }
   }
  },
  {
   "cell_type": "markdown",
   "source": [
    "**Part B**: Identify a visualization, that was created within the last year, that is a good example of the application of visual variables. Make sure to include:\n",
    "The URL of the webpage with the visualization\n",
    "A good, representative image from the visualization\n",
    "A few sentences explaining why you choose the visualization and which visual variables are strongest\n",
    "URL: [Ranked: America’s 20 Biggest Tech Layoffs Since 2020](https://www.visualcapitalist.com/americas-20-biggest-tech-layoffs-since-2020/)\n",
    "\n",
    "I chose this visualization primarily because it describes a very relevant topic. The topic of layoffs in the tech industry.\n",
    "The visualization is quite simple and uses 3 variables: the number of people, the company name, and the date of dismissal. This visualization helps to better compare companies and understand the scale of layoffs."
   ],
   "metadata": {
    "collapsed": false
   }
  }
 ],
 "metadata": {
  "kernelspec": {
   "display_name": "Python 3 (ipykernel)",
   "language": "python",
   "name": "python3"
  },
  "language_info": {
   "codemirror_mode": {
    "name": "ipython",
    "version": 3
   },
   "file_extension": ".py",
   "mimetype": "text/x-python",
   "name": "python",
   "nbconvert_exporter": "python",
   "pygments_lexer": "ipython3",
   "version": "3.9.6"
  }
 },
 "nbformat": 4,
 "nbformat_minor": 1
}
